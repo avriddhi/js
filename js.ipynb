{
 "cells": [
  {
   "cell_type": "code",
   "execution_count": null,
   "id": "d2d7ded5",
   "metadata": {},
   "outputs": [],
   "source": [
    "Implement a stack using an array in JavaScript. Include the necessary methods such as push, pop, and is Empty.\n",
    "class Stack {\n",
    "  constructor() {\n",
    "    this.items = [];\n",
    "  }\n",
    "\n",
    "  push(element) {\n",
    "    this.items.push(element);\n",
    "  }\n",
    "\n",
    "  pop() {\n",
    "    if (this.items.length == 0)\n",
    "      return \"Underflow\";\n",
    "    return this.items.pop();\n",
    "  }\n",
    "\n",
    "  peek() {\n",
    "    return this.items[this.items.length - 1];\n",
    "  }\n",
    "\n",
    "  isEmpty() {\n",
    "    return this.items.length == 0;\n",
    "  }\n",
    "}\n",
    "\n",
    "let stack = new Stack();\n",
    "console.log(stack.isEmpty()); // true\n",
    "stack.push(10);\n",
    "stack.push(20);\n",
    "stack.push(30);\n",
    "console.log(stack.peek()); // 30\n",
    "console.log(stack.pop()); // 30\n",
    "console.log(stack.peek()); // 20\n"
   ]
  },
  {
   "cell_type": "code",
   "execution_count": null,
   "id": "ce8ff9b1",
   "metadata": {},
   "outputs": [],
   "source": [
    "Implement a queue using an array in JavaScript. Include the necessary methods such as enqueue, dequeue, and is Empty.\n",
    "class Queue {\n",
    "  constructor() {\n",
    "    this.items = [];\n",
    "  }\n",
    "\n",
    "  enqueue(element) {\n",
    "    this.items.push(element);\n",
    "  }\n",
    "\n",
    "  dequeue() {\n",
    "    if (this.isEmpty()) return \"Underflow\";\n",
    "    return this.items.shift();\n",
    "  }\n",
    "\n",
    "  isEmpty() {\n",
    "    return this.items.length == 0;\n",
    "  }\n",
    "}\n",
    "\n"
   ]
  }
 ],
 "metadata": {
  "kernelspec": {
   "display_name": "Python 3 (ipykernel)",
   "language": "python",
   "name": "python3"
  },
  "language_info": {
   "codemirror_mode": {
    "name": "ipython",
    "version": 3
   },
   "file_extension": ".py",
   "mimetype": "text/x-python",
   "name": "python",
   "nbconvert_exporter": "python",
   "pygments_lexer": "ipython3",
   "version": "3.10.9"
  }
 },
 "nbformat": 4,
 "nbformat_minor": 5
}
